{
 "cells": [
  {
   "cell_type": "code",
   "execution_count": 1,
   "id": "7cadefae-ecb8-4484-82f7-38408ac3cd50",
   "metadata": {},
   "outputs": [],
   "source": [
    "import requests"
   ]
  },
  {
   "cell_type": "code",
   "execution_count": 12,
   "id": "dffcfe13-f263-442d-be62-d42ed7da244b",
   "metadata": {},
   "outputs": [
    {
     "name": "stdout",
     "output_type": "stream",
     "text": [
      "200\n"
     ]
    }
   ],
   "source": [
    "base_url = \"http://host.docker.internal:8000\"\n",
    "path = \"/padlocr\"\n",
    "url = base_url + path\n",
    "file_path = 'test_ocr_im.jpg'\n",
    "\n",
    "with open(file_path, 'rb') as file:\n",
    "    files = {'file': file}\n",
    "    response = requests.post(url, files=files)\n",
    "    print(response.status_code)"
   ]
  },
  {
   "cell_type": "code",
   "execution_count": 11,
   "id": "d05e227a-fb39-47fb-82cc-b3ef90980fdb",
   "metadata": {},
   "outputs": [],
   "source": [
    "results = response.json()['results']"
   ]
  },
  {
   "cell_type": "code",
   "execution_count": 13,
   "id": "76e289bf-e7b3-4f1b-9c93-b055a1abd9e8",
   "metadata": {},
   "outputs": [
    {
     "name": "stdout",
     "output_type": "stream",
     "text": [
      "[{'text': '04', 'probability': 0.7348029613494873, 'bounding_box': {'bottom_left': [485.0, 109.0], 'bottom_right': [504.0, 109.0], 'top_right': [504.0, 117.0], 'top_left': [485.0, 117.0]}}, {'text': '데이터수집데이터추출', 'probability': 0.8800531625747681, 'bounding_box': {'bottom_left': [500.0, 105.0], 'bottom_right': [602.0, 108.0], 'top_right': [602.0, 123.0], 'top_left': [500.0, 120.0]}}, {'text': '65', 'probability': 0.9983088374137878, 'bounding_box': {'bottom_left': [618.0, 112.0], 'bottom_right': [630.0, 112.0], 'top_right': [630.0, 123.0], 'top_left': [618.0, 123.0]}}, {'text': 'AS_secret_access keysecret key', 'probability': 0.969585120677948, 'bounding_box': {'bottom_left': [208.0, 159.0], 'bottom_right': [383.0, 166.0], 'top_right': [382.0, 180.0], 'top_left': [208.0, 174.0]}}, {'text': '53file', 'probability': 0.887725293636322, 'bounding_box': {'bottom_left': [166.0, 201.0], 'bottom_right': [207.0, 201.0], 'top_right': [207.0, 215.0], 'top_left': [166.0, 215.0]}}, {'text': 'EXpOrt f1IG', 'probability': 0.7972471714019775, 'bounding_box': {'bottom_left': [218.0, 202.0], 'bottom_right': [278.0, 202.0], 'top_right': [278.0, 213.0], 'top_left': [218.0, 213.0]}}, {'text': '53upload_fileexport_file', 'probability': 0.9477470517158508, 'bounding_box': {'bottom_left': [166.0, 239.0], 'bottom_right': [307.0, 240.0], 'top_right': [307.0, 255.0], 'top_left': [166.0, 254.0]}}, {'text': 'bucket_nane', 'probability': 0.9312395453453064, 'bounding_box': {'bottom_left': [312.0, 241.0], 'bottom_right': [374.0, 246.0], 'top_right': [373.0, 260.0], 'top_left': [311.0, 255.0]}}, {'text': '53_file', 'probability': 0.8319665193557739, 'bounding_box': {'bottom_left': [379.0, 246.0], 'bottom_right': [422.0, 246.0], 'top_right': [422.0, 261.0], 'top_left': [379.0, 261.0]}}, {'text': '이게', 'probability': 0.9903086423873901, 'bounding_box': {'bottom_left': [138.0, 286.0], 'bottom_right': [164.0, 286.0], 'top_right': [164.0, 302.0], 'top_left': [138.0, 302.0]}}, {'text': '전부다', 'probability': 0.9998993873596191, 'bounding_box': {'bottom_left': [166.0, 283.0], 'bottom_right': [205.0, 283.0], 'top_right': [205.0, 302.0], 'top_left': [166.0, 302.0]}}, {'text': 'MongODB', 'probability': 0.958689272403717, 'bounding_box': {'bottom_left': [207.0, 286.0], 'bottom_right': [267.0, 284.0], 'top_right': [267.0, 300.0], 'top_left': [207.0, 302.0]}}, {'text': '컬렉션에서', 'probability': 0.999021053314209, 'bounding_box': {'bottom_left': [273.0, 284.0], 'bottom_right': [329.0, 286.0], 'top_right': [328.0, 302.0], 'top_left': [272.0, 300.0]}}, {'text': '추출된', 'probability': 0.9999604225158691, 'bounding_box': {'bottom_left': [332.0, 288.0], 'bottom_right': [367.0, 288.0], 'top_right': [367.0, 303.0], 'top_left': [332.0, 303.0]}}, {'text': '데이터는', 'probability': 0.9991917610168457, 'bounding_box': {'bottom_left': [369.0, 286.0], 'bottom_right': [416.0, 292.0], 'top_right': [415.0, 308.0], 'top_left': [367.0, 302.0]}}, {'text': '이제', 'probability': 0.9999100565910339, 'bounding_box': {'bottom_left': [419.0, 291.0], 'bottom_right': [446.0, 291.0], 'top_right': [446.0, 308.0], 'top_left': [419.0, 308.0]}}, {'text': '53', 'probability': 0.9650349617004395, 'bounding_box': {'bottom_left': [441.0, 294.0], 'bottom_right': [459.0, 294.0], 'top_right': [459.0, 308.0], 'top_left': [441.0, 308.0]}}, {'text': '버킷에', 'probability': 0.9326563477516174, 'bounding_box': {'bottom_left': [463.0, 292.0], 'bottom_right': [498.0, 295.0], 'top_right': [497.0, 312.0], 'top_left': [462.0, 309.0]}}, {'text': '저장되어', 'probability': 0.9999202489852905, 'bounding_box': {'bottom_left': [501.0, 295.0], 'bottom_right': [546.0, 295.0], 'top_right': [546.0, 311.0], 'top_left': [501.0, 311.0]}}, {'text': '데이터', 'probability': 0.9998621940612793, 'bounding_box': {'bottom_left': [548.0, 297.0], 'bottom_right': [583.0, 297.0], 'top_right': [583.0, 311.0], 'top_left': [548.0, 311.0]}}, {'text': '중동', 'probability': 0.7161080241203308, 'bounding_box': {'bottom_left': [586.0, 298.0], 'bottom_right': [610.0, 298.0], 'top_right': [610.0, 310.0], 'top_left': [586.0, 310.0]}}, {'text': '하우스나', 'probability': 0.9999054670333862, 'bounding_box': {'bottom_left': [140.0, 310.0], 'bottom_right': [185.0, 310.0], 'top_right': [185.0, 326.0], 'top_left': [140.0, 326.0]}}, {'text': '다른', 'probability': 0.9999982714653015, 'bounding_box': {'bottom_left': [186.0, 309.0], 'bottom_right': [212.0, 309.0], 'top_right': [212.0, 325.0], 'top_left': [186.0, 325.0]}}, {'text': 'El이', 'probability': 0.6214106678962708, 'bounding_box': {'bottom_left': [213.0, 309.0], 'bottom_right': [249.0, 309.0], 'top_right': [249.0, 324.0], 'top_left': [213.0, 324.0]}}, {'text': '저장소에', 'probability': 0.9997684955596924, 'bounding_box': {'bottom_left': [253.0, 309.0], 'bottom_right': [298.0, 309.0], 'top_right': [298.0, 325.0], 'top_left': [253.0, 325.0]}}, {'text': '로드되기를', 'probability': 0.9994409680366516, 'bounding_box': {'bottom_left': [301.0, 308.0], 'bottom_right': [358.0, 312.0], 'top_right': [357.0, 330.0], 'top_left': [300.0, 326.0]}}, {'text': '기다리고', 'probability': 0.9995071887969971, 'bounding_box': {'bottom_left': [360.0, 312.0], 'bottom_right': [409.0, 315.0], 'top_right': [408.0, 331.0], 'top_left': [360.0, 328.0]}}, {'text': '있다', 'probability': 0.9999787211418152, 'bounding_box': {'bottom_left': [409.0, 317.0], 'bottom_right': [434.0, 317.0], 'top_right': [434.0, 333.0], 'top_left': [409.0, 333.0]}}, {'text': '제공된', 'probability': 0.9999110102653503, 'bounding_box': {'bottom_left': [440.0, 318.0], 'bottom_right': [474.0, 318.0], 'top_right': [474.0, 334.0], 'top_left': [440.0, 334.0]}}, {'text': '예제', 'probability': 0.9934002161026001, 'bounding_box': {'bottom_left': [474.0, 319.0], 'bottom_right': [499.0, 319.0], 'top_right': [499.0, 335.0], 'top_left': [474.0, 335.0]}}, {'text': '데이터를', 'probability': 0.9985335469245911, 'bounding_box': {'bottom_left': [502.0, 319.0], 'bottom_right': [549.0, 321.0], 'top_right': [548.0, 336.0], 'top_left': [501.0, 334.0]}}, {'text': '사용한경우', 'probability': 0.9999542236328125, 'bounding_box': {'bottom_left': [548.0, 321.0], 'bottom_right': [610.0, 321.0], 'top_right': [610.0, 336.0], 'top_left': [548.0, 336.0]}}, {'text': 'Export_filecsv의', 'probability': 0.9552380442619324, 'bounding_box': {'bottom_left': [139.0, 338.0], 'bottom_right': [239.0, 334.0], 'top_right': [239.0, 349.0], 'top_left': [139.0, 353.0]}}, {'text': '내용은', 'probability': 0.99997878074646, 'bounding_box': {'bottom_left': [240.0, 335.0], 'bottom_right': [278.0, 335.0], 'top_right': [278.0, 350.0], 'top_left': [240.0, 350.0]}}, {'text': '다음과', 'probability': 0.999176561832428, 'bounding_box': {'bottom_left': [271.0, 335.0], 'bottom_right': [317.0, 337.0], 'top_right': [316.0, 352.0], 'top_left': [270.0, 350.0]}}, {'text': '같다', 'probability': 0.9999957084655762, 'bounding_box': {'bottom_left': [314.0, 337.0], 'bottom_right': [342.0, 337.0], 'top_right': [342.0, 353.0], 'top_left': [314.0, 353.0]}}, {'text': '112820-12-13', 'probability': 0.9491767287254333, 'bounding_box': {'bottom_left': [168.0, 374.0], 'bottom_right': [232.0, 374.0], 'top_right': [232.0, 389.0], 'top_left': [168.0, 389.0]}}, {'text': '11:91:37', 'probability': 0.949697732925415, 'bounding_box': {'bottom_left': [236.0, 377.0], 'bottom_right': [279.0, 377.0], 'top_right': [279.0, 388.0], 'top_left': [236.0, 388.0]}}, {'text': '942000s1gniup', 'probability': 0.8720500469207764, 'bounding_box': {'bottom_left': [279.0, 374.0], 'bottom_right': [353.0, 379.0], 'top_right': [352.0, 393.0], 'top_left': [278.0, 388.0]}}, {'text': '2/2020-', 'probability': 0.8491417765617371, 'bounding_box': {'bottom_left': [166.0, 395.0], 'bottom_right': [206.0, 395.0], 'top_right': [206.0, 410.0], 'top_left': [166.0, 410.0]}}, {'text': '12-13', 'probability': 0.9015955924987793, 'bounding_box': {'bottom_left': [201.0, 396.0], 'bottom_right': [231.0, 396.0], 'top_right': [231.0, 407.0], 'top_left': [201.0, 407.0]}}, {'text': '11:91:37', 'probability': 0.9433823227882385, 'bounding_box': {'bottom_left': [236.0, 396.0], 'bottom_right': [279.0, 396.0], 'top_right': [279.0, 407.0], 'top_left': [236.0, 407.0]}}, {'text': '942900', 'probability': 0.949160099029541, 'bounding_box': {'bottom_left': [281.0, 397.0], 'bottom_right': [317.0, 397.0], 'top_right': [317.0, 409.0], 'top_left': [281.0, 409.0]}}, {'text': 'Apagevie', 'probability': 0.8436586260795593, 'bounding_box': {'bottom_left': [312.0, 399.0], 'bottom_right': [360.0, 399.0], 'top_right': [360.0, 411.0], 'top_left': [312.0, 411.0]}}, {'text': '312920-12-13', 'probability': 0.93034428358078, 'bounding_box': {'bottom_left': [167.0, 416.0], 'bottom_right': [230.0, 414.0], 'top_right': [231.0, 425.0], 'top_left': [167.0, 428.0]}}, {'text': '11:91:37', 'probability': 0.955173909664154, 'bounding_box': {'bottom_left': [236.0, 415.0], 'bottom_right': [282.0, 415.0], 'top_right': [282.0, 427.0], 'top_left': [236.0, 427.0]}}, {'text': '9420001ogin', 'probability': 0.8753607273101807, 'bounding_box': {'bottom_left': [278.0, 414.0], 'bottom_right': [344.0, 416.0], 'top_right': [343.0, 430.0], 'top_left': [278.0, 428.0]}}, {'text': '아리파', 'probability': 0.5654650330543518, 'bounding_box': {'bottom_left': [140.0, 459.0], 'bottom_right': [253.0, 458.0], 'top_right': [253.0, 474.0], 'top_left': [140.0, 475.0]}}, {'text': '릅비이', 'probability': 0.539733350276947, 'bounding_box': {'bottom_left': [255.0, 459.0], 'bottom_right': [303.0, 459.0], 'top_right': [303.0, 475.0], 'top_left': [255.0, 475.0]}}, {'text': '로드하는', 'probability': 0.9997683763504028, 'bounding_box': {'bottom_left': [300.0, 456.0], 'bottom_right': [355.0, 460.0], 'top_right': [354.0, 478.0], 'top_left': [299.0, 474.0]}}, {'text': 'I6을', 'probability': 0.5306438207626343, 'bounding_box': {'bottom_left': [353.0, 462.0], 'bottom_right': [388.0, 462.0], 'top_right': [388.0, 478.0], 'top_left': [353.0, 478.0]}}, {'text': '자세한내용은5장을', 'probability': 0.990482747554779, 'bounding_box': {'bottom_left': [416.0, 462.0], 'bottom_right': [518.0, 465.0], 'top_right': [518.0, 482.0], 'top_left': [416.0, 479.0]}}, {'text': '참조한다', 'probability': 0.9992024898529053, 'bounding_box': {'bottom_left': [519.0, 468.0], 'bottom_right': [563.0, 468.0], 'top_right': [563.0, 480.0], 'top_left': [519.0, 480.0]}}, {'text': 'REST', 'probability': 0.9999980926513672, 'bounding_box': {'bottom_left': [139.0, 525.0], 'bottom_right': [183.0, 525.0], 'top_right': [183.0, 545.0], 'top_left': [139.0, 545.0]}}, {'text': 'Ap에서', 'probability': 0.9132711887359619, 'bounding_box': {'bottom_left': [186.0, 525.0], 'bottom_right': [247.0, 525.0], 'top_right': [247.0, 544.0], 'top_left': [186.0, 544.0]}}, {'text': '데이터', 'probability': 0.999933660030365, 'bounding_box': {'bottom_left': [251.0, 525.0], 'bottom_right': [298.0, 525.0], 'top_right': [298.0, 544.0], 'top_left': [251.0, 544.0]}}, {'text': '추출', 'probability': 0.9999911189079285, 'bounding_box': {'bottom_left': [299.0, 523.0], 'bottom_right': [329.0, 526.0], 'top_right': [327.0, 544.0], 'top_left': [297.0, 541.0]}}, {'text': 'REST', 'probability': 0.9996844530105591, 'bounding_box': {'bottom_left': [139.0, 570.0], 'bottom_right': [171.0, 570.0], 'top_right': [171.0, 585.0], 'top_left': [139.0, 585.0]}}, {'text': 'API는', 'probability': 0.9855920076370239, 'bounding_box': {'bottom_left': [169.0, 569.0], 'bottom_right': [204.0, 569.0], 'top_right': [204.0, 583.0], 'top_left': [169.0, 583.0]}}, {'text': '데이터를', 'probability': 0.9995909929275513, 'bounding_box': {'bottom_left': [205.0, 567.0], 'bottom_right': [254.0, 567.0], 'top_right': [254.0, 583.0], 'top_left': [205.0, 583.0]}}, {'text': '추출하는', 'probability': 0.999976634979248, 'bounding_box': {'bottom_left': [253.0, 569.0], 'bottom_right': [301.0, 569.0], 'top_right': [301.0, 583.0], 'top_left': [253.0, 583.0]}}, {'text': '흔한방법이다', 'probability': 0.958594024181366, 'bounding_box': {'bottom_left': [304.0, 569.0], 'bottom_right': [379.0, 569.0], 'top_right': [379.0, 587.0], 'top_left': [304.0, 587.0]}}, {'text': '조직에서', 'probability': 0.9999827146530151, 'bounding_box': {'bottom_left': [382.0, 568.0], 'bottom_right': [430.0, 571.0], 'top_right': [429.0, 587.0], 'top_left': [381.0, 584.0]}}, {'text': '만들고', 'probability': 0.9998825192451477, 'bounding_box': {'bottom_left': [430.0, 572.0], 'bottom_right': [467.0, 572.0], 'top_right': [467.0, 588.0], 'top_left': [430.0, 588.0]}}, {'text': '유지', 'probability': 0.9977794885635376, 'bounding_box': {'bottom_left': [469.0, 574.0], 'bottom_right': [493.0, 574.0], 'top_right': [493.0, 587.0], 'top_left': [469.0, 587.0]}}, {'text': '관리하는', 'probability': 0.9999265074729919, 'bounding_box': {'bottom_left': [491.0, 571.0], 'bottom_right': [538.0, 574.0], 'top_right': [537.0, 590.0], 'top_left': [490.0, 587.0]}}, {'text': 'lYloIdV', 'probability': 0.777044951915741, 'bounding_box': {'bottom_left': [541.0, 575.0], 'bottom_right': [611.0, 575.0], 'top_right': [611.0, 590.0], 'top_left': [541.0, 590.0]}}, {'text': '더를수집하거나', 'probability': 0.9438815712928772, 'bounding_box': {'bottom_left': [139.0, 594.0], 'bottom_right': [224.0, 593.0], 'top_right': [224.0, 609.0], 'top_left': [139.0, 610.0]}}, {'text': 'Salesforce', 'probability': 0.9999736547470093, 'bounding_box': {'bottom_left': [221.0, 592.0], 'bottom_right': [284.0, 594.0], 'top_right': [283.0, 609.0], 'top_left': [221.0, 607.0]}}, {'text': 'Hubspot', 'probability': 0.9621313810348511, 'bounding_box': {'bottom_left': [289.0, 592.0], 'bottom_right': [340.0, 596.0], 'top_right': [339.0, 612.0], 'top_left': [287.0, 608.0]}}, {'text': '또는', 'probability': 0.9999925494194031, 'bounding_box': {'bottom_left': [344.0, 596.0], 'bottom_right': [368.0, 596.0], 'top_right': [368.0, 609.0], 'top_left': [344.0, 609.0]}}, {'text': 'Twitter와', 'probability': 0.9977216720581055, 'bounding_box': {'bottom_left': [367.0, 596.0], 'bottom_right': [422.0, 596.0], 'top_right': [422.0, 611.0], 'top_left': [367.0, 611.0]}}, {'text': '같이', 'probability': 0.999968409538269, 'bounding_box': {'bottom_left': [422.0, 596.0], 'bottom_right': [447.0, 596.0], 'top_right': [447.0, 612.0], 'top_left': [422.0, 612.0]}}, {'text': '조직에서', 'probability': 0.9999693632125854, 'bounding_box': {'bottom_left': [448.0, 597.0], 'bottom_right': [495.0, 597.0], 'top_right': [495.0, 612.0], 'top_left': [448.0, 612.0]}}, {'text': '사용하는', 'probability': 0.9999775886535645, 'bounding_box': {'bottom_left': [497.0, 598.0], 'bottom_right': [544.0, 598.0], 'top_right': [544.0, 613.0], 'top_left': [497.0, 613.0]}}, {'text': '외부', 'probability': 0.9998173713684082, 'bounding_box': {'bottom_left': [546.0, 599.0], 'bottom_right': [569.0, 599.0], 'top_right': [569.0, 614.0], 'top_left': [546.0, 614.0]}}, {'text': '서비스/', 'probability': 0.9896997809410095, 'bounding_box': {'bottom_left': [571.0, 599.0], 'bottom_right': [610.0, 599.0], 'top_right': [610.0, 614.0], 'top_left': [571.0, 614.0]}}, {'text': '하동본운', 'probability': 0.6939560770988464, 'bounding_box': {'bottom_left': [139.0, 619.0], 'bottom_right': [196.0, 619.0], 'top_right': [196.0, 637.0], 'top_left': [139.0, 637.0]}}, {'text': 'API에서', 'probability': 0.9696516990661621, 'bounding_box': {'bottom_left': [198.0, 619.0], 'bottom_right': [242.0, 619.0], 'top_right': [242.0, 635.0], 'top_left': [198.0, 635.0]}}, {'text': '데이터를', 'probability': 0.9996380805969238, 'bounding_box': {'bottom_left': [246.0, 619.0], 'bottom_right': [292.0, 619.0], 'top_right': [292.0, 634.0], 'top_left': [246.0, 634.0]}}, {'text': '수집해야할', 'probability': 0.9997457265853882, 'bounding_box': {'bottom_left': [296.0, 620.0], 'bottom_right': [359.0, 620.0], 'top_right': [359.0, 635.0], 'top_left': [296.0, 635.0]}}, {'text': '수도', 'probability': 0.895790696144104, 'bounding_box': {'bottom_left': [354.0, 622.0], 'bottom_right': [382.0, 622.0], 'top_right': [382.0, 635.0], 'top_left': [354.0, 635.0]}}, {'text': '있다', 'probability': 0.9999809861183167, 'bounding_box': {'bottom_left': [387.0, 621.0], 'bottom_right': [413.0, 621.0], 'top_right': [413.0, 637.0], 'top_left': [387.0, 637.0]}}, {'text': 'API에', 'probability': 0.9734752774238586, 'bounding_box': {'bottom_left': [418.0, 621.0], 'bottom_right': [451.0, 621.0], 'top_right': [451.0, 637.0], 'top_left': [418.0, 637.0]}}, {'text': '관계없이', 'probability': 0.9999401569366455, 'bounding_box': {'bottom_left': [450.0, 621.0], 'bottom_right': [498.0, 623.0], 'top_right': [497.0, 638.0], 'top_left': [449.0, 635.0]}}, {'text': 'E이', 'probability': 0.6982559561729431, 'bounding_box': {'bottom_left': [500.0, 623.0], 'bottom_right': [537.0, 623.0], 'top_right': [537.0, 638.0], 'top_left': [500.0, 638.0]}}, {'text': '추출에는공동', 'probability': 0.9629383683204651, 'bounding_box': {'bottom_left': [538.0, 624.0], 'bottom_right': [610.0, 624.0], 'top_right': [610.0, 639.0], 'top_left': [538.0, 639.0]}}, {'text': '|아', 'probability': 0.8287687301635742, 'bounding_box': {'bottom_left': [140.0, 645.0], 'bottom_right': [173.0, 645.0], 'top_right': [173.0, 660.0], 'top_left': [140.0, 660.0]}}, {'text': '있으며', 'probability': 0.9999868869781494, 'bounding_box': {'bottom_left': [173.0, 644.0], 'bottom_right': [214.0, 644.0], 'top_right': [214.0, 660.0], 'top_left': [173.0, 660.0]}}, {'text': '다음의', 'probability': 0.9999348521232605, 'bounding_box': {'bottom_left': [215.0, 644.0], 'bottom_right': [253.0, 644.0], 'top_right': [253.0, 660.0], 'top_left': [215.0, 660.0]}}, {'text': '간단한', 'probability': 0.9999602437019348, 'bounding_box': {'bottom_left': [252.0, 644.0], 'bottom_right': [290.0, 644.0], 'top_right': [290.0, 659.0], 'top_left': [252.0, 659.0]}}, {'text': 'Yl', 'probability': 0.8886377811431885, 'bounding_box': {'bottom_left': [289.0, 644.0], 'bottom_right': [337.0, 644.0], 'top_right': [337.0, 660.0], 'top_left': [289.0, 660.0]}}, {'text': '사용할것이다', 'probability': 0.9971950650215149, 'bounding_box': {'bottom_left': [335.0, 642.0], 'bottom_right': [413.0, 644.0], 'top_right': [412.0, 663.0], 'top_left': [335.0, 660.0]}}, {'text': '1', 'probability': 0.986273467540741, 'bounding_box': {'bottom_left': [154.0, 688.0], 'bottom_right': [165.0, 688.0], 'top_right': [165.0, 697.0], 'top_left': [154.0, 697.0]}}, {'text': 'AR엔드L인트로HTTPGET', 'probability': 0.920583188533783, 'bounding_box': {'bottom_left': [163.0, 685.0], 'bottom_right': [289.0, 683.0], 'top_right': [289.0, 696.0], 'top_left': [163.0, 699.0]}}, {'text': '250%형식일가능성이높은용답을수락한다', 'probability': 0.9136877059936523, 'bounding_box': {'bottom_left': [150.0, 714.0], 'bottom_right': [350.0, 713.0], 'top_right': [350.0, 727.0], 'top_left': [150.0, 729.0]}}, {'text': '3', 'probability': 0.9999779462814331, 'bounding_box': {'bottom_left': [153.0, 746.0], 'bottom_right': [163.0, 746.0], 'top_right': [163.0, 755.0], 'top_left': [153.0, 755.0]}}, {'text': '응답을구문분석하고나중에데이터웨미하우스에로드할수있는C5V', 'probability': 0.9530642628669739, 'bounding_box': {'bottom_left': [164.0, 741.0], 'bottom_right': [455.0, 742.0], 'top_right': [455.0, 757.0], 'top_left': [164.0, 756.0]}}, {'text': '파일로', 'probability': 0.9520010352134705, 'bounding_box': {'bottom_left': [451.0, 745.0], 'bottom_right': [485.0, 745.0], 'top_right': [485.0, 756.0], 'top_left': [451.0, 756.0]}}, {'text': '변핵평탄화한다', 'probability': 0.9656375050544739, 'bounding_box': {'bottom_left': [481.0, 743.0], 'bottom_right': [552.0, 743.0], 'top_right': [552.0, 755.0], 'top_left': [481.0, 755.0]}}, {'text': '개인적으로는JSON', 'probability': 0.9235602617263794, 'bounding_box': {'bottom_left': [167.0, 797.0], 'bottom_right': [254.0, 798.0], 'top_right': [254.0, 813.0], 'top_left': [167.0, 812.0]}}, {'text': '형식으로', 'probability': 0.9997363090515137, 'bounding_box': {'bottom_left': [252.0, 798.0], 'bottom_right': [296.0, 798.0], 'top_right': [296.0, 813.0], 'top_left': [252.0, 813.0]}}, {'text': '온응답을', 'probability': 0.8617838621139526, 'bounding_box': {'bottom_left': [294.0, 800.0], 'bottom_right': [336.0, 800.0], 'top_right': [336.0, 812.0], 'top_left': [294.0, 812.0]}}, {'text': '구문분석p품rsing하여', 'probability': 0.8764193058013916, 'bounding_box': {'bottom_left': [338.0, 799.0], 'bottom_right': [438.0, 799.0], 'top_right': [438.0, 813.0], 'top_left': [338.0, 813.0]}}, {'text': '플랫', 'probability': 0.956464409828186, 'bounding_box': {'bottom_left': [438.0, 800.0], 'bottom_right': [459.0, 800.0], 'top_right': [459.0, 812.0], 'top_left': [438.0, 812.0]}}, {'text': '파일CSV에', 'probability': 0.9792354106903076, 'bounding_box': {'bottom_left': [460.0, 800.0], 'bottom_right': [513.0, 800.0], 'top_right': [513.0, 812.0], 'top_left': [460.0, 812.0]}}, {'text': '저장하지만', 'probability': 0.9999396204948425, 'bounding_box': {'bottom_left': [516.0, 800.0], 'bottom_right': [562.0, 800.0], 'top_right': [562.0, 812.0], 'top_left': [516.0, 812.0]}}, {'text': '데이터를', 'probability': 0.9559650421142578, 'bounding_box': {'bottom_left': [568.0, 800.0], 'bottom_right': [603.0, 800.0], 'top_right': [603.0, 812.0], 'top_left': [568.0, 812.0]}}, {'text': '데이터', 'probability': 0.9791248440742493, 'bounding_box': {'bottom_left': [167.0, 820.0], 'bottom_right': [196.0, 820.0], 'top_right': [196.0, 832.0], 'top_left': [167.0, 832.0]}}, {'text': '웨어하우스에', 'probability': 0.981852114200592, 'bounding_box': {'bottom_left': [198.0, 820.0], 'bottom_right': [256.0, 820.0], 'top_right': [256.0, 832.0], 'top_left': [198.0, 832.0]}}, {'text': '로드하기위해', 'probability': 0.9997614026069641, 'bounding_box': {'bottom_left': [257.0, 820.0], 'bottom_right': [320.0, 820.0], 'top_right': [320.0, 832.0], 'top_left': [257.0, 832.0]}}, {'text': 'JSON', 'probability': 0.9986199140548706, 'bounding_box': {'bottom_left': [320.0, 820.0], 'bottom_right': [350.0, 820.0], 'top_right': [350.0, 834.0], 'top_left': [320.0, 834.0]}}, {'text': '형식으로', 'probability': 0.9993904829025269, 'bounding_box': {'bottom_left': [350.0, 818.0], 'bottom_right': [387.0, 818.0], 'top_right': [387.0, 833.0], 'top_left': [350.0, 833.0]}}, {'text': '저장할', 'probability': 0.9940121173858643, 'bounding_box': {'bottom_left': [391.0, 819.0], 'bottom_right': [421.0, 819.0], 'top_right': [421.0, 833.0], 'top_left': [391.0, 833.0]}}, {'text': '수도', 'probability': 0.9822970628738403, 'bounding_box': {'bottom_left': [421.0, 820.0], 'bottom_right': [446.0, 820.0], 'top_right': [446.0, 833.0], 'top_left': [421.0, 833.0]}}, {'text': '있다', 'probability': 0.9999924302101135, 'bounding_box': {'bottom_left': [442.0, 820.0], 'bottom_right': [465.0, 820.0], 'top_right': [465.0, 832.0], 'top_left': [442.0, 832.0]}}, {'text': '단순함을', 'probability': 0.9998374581336975, 'bounding_box': {'bottom_left': [468.0, 820.0], 'bottom_right': [504.0, 820.0], 'top_right': [504.0, 832.0], 'top_left': [468.0, 832.0]}}, {'text': '위해이', 'probability': 0.999650776386261, 'bounding_box': {'bottom_left': [507.0, 820.0], 'bottom_right': [541.0, 820.0], 'top_right': [541.0, 832.0], 'top_left': [507.0, 832.0]}}, {'text': '장메서는', 'probability': 0.9819061756134033, 'bounding_box': {'bottom_left': [543.0, 819.0], 'bottom_right': [583.0, 819.0], 'top_right': [583.0, 834.0], 'top_left': [543.0, 834.0]}}, {'text': 'C5!', 'probability': 0.8085364699363708, 'bounding_box': {'bottom_left': [582.0, 820.0], 'bottom_right': [602.0, 820.0], 'top_right': [602.0, 832.0], 'top_left': [582.0, 832.0]}}, {'text': '사용하는', 'probability': 0.9994982481002808, 'bounding_box': {'bottom_left': [195.0, 843.0], 'bottom_right': [236.0, 843.0], 'top_right': [236.0, 854.0], 'top_left': [195.0, 854.0]}}, {'text': '통글표', 'probability': 0.518822968006134, 'bounding_box': {'bottom_left': [239.0, 843.0], 'bottom_right': [269.0, 843.0], 'top_right': [269.0, 854.0], 'top_left': [239.0, 854.0]}}, {'text': '사용한다', 'probability': 0.9990541934967041, 'bounding_box': {'bottom_left': [267.0, 843.0], 'bottom_right': [312.0, 843.0], 'top_right': [312.0, 854.0], 'top_left': [267.0, 854.0]}}, {'text': 'C5V', 'probability': 0.7796594500541687, 'bounding_box': {'bottom_left': [312.0, 842.0], 'bottom_right': [338.0, 842.0], 'top_right': [338.0, 854.0], 'top_left': [312.0, 854.0]}}, {'text': '흥문', 'probability': 0.511304497718811, 'bounding_box': {'bottom_left': [338.0, 842.0], 'bottom_right': [368.0, 842.0], 'top_right': [368.0, 853.0], 'top_left': [338.0, 853.0]}}, {'text': '데이터를', 'probability': 0.99981689453125, 'bounding_box': {'bottom_left': [409.0, 839.0], 'bottom_right': [447.0, 839.0], 'top_right': [447.0, 854.0], 'top_left': [409.0, 854.0]}}, {'text': '로드하는', 'probability': 0.9990464448928833, 'bounding_box': {'bottom_left': [451.0, 839.0], 'bottom_right': [488.0, 839.0], 'top_right': [488.0, 854.0], 'top_left': [451.0, 854.0]}}, {'text': '자세한', 'probability': 0.9997674822807312, 'bounding_box': {'bottom_left': [544.0, 841.0], 'bottom_right': [572.0, 841.0], 'top_right': [572.0, 852.0], 'top_left': [544.0, 852.0]}}, {'text': '내용은', 'probability': 0.9722151756286621, 'bounding_box': {'bottom_left': [575.0, 841.0], 'bottom_right': [601.0, 841.0], 'top_right': [601.0, 853.0], 'top_left': [575.0, 853.0]}}, {'text': '5장또는', 'probability': 0.9997804164886475, 'bounding_box': {'bottom_left': [166.0, 863.0], 'bottom_right': [203.0, 863.0], 'top_right': [203.0, 875.0], 'top_left': [166.0, 875.0]}}, {'text': '데이터웨어하우스', 'probability': 0.9479966759681702, 'bounding_box': {'bottom_left': [203.0, 863.0], 'bottom_right': [279.0, 863.0], 'top_right': [279.0, 875.0], 'top_left': [203.0, 875.0]}}, {'text': '참조한다', 'probability': 0.9985830783843994, 'bounding_box': {'bottom_left': [320.0, 861.0], 'bottom_right': [360.0, 858.0], 'top_right': [361.0, 873.0], 'top_left': [321.0, 876.0]}}]\n"
     ]
    }
   ],
   "source": [
    "print(results)"
   ]
  },
  {
   "cell_type": "code",
   "execution_count": 10,
   "id": "f7c789ad-466c-474f-9200-dabedce4b3eb",
   "metadata": {},
   "outputs": [
    {
     "name": "stdout",
     "output_type": "stream",
     "text": [
      "04\n",
      "데이터수집데이터추출\n",
      "65\n",
      "AS_secret_access keysecret key\n",
      "53file\n",
      "EXpOrt f1IG\n",
      "53upload_fileexport_file\n",
      "bucket_nane\n",
      "53_file\n",
      "이게\n",
      "전부다\n",
      "MongODB\n",
      "컬렉션에서\n",
      "추출된\n",
      "데이터는\n",
      "이제\n",
      "53\n",
      "버킷에\n",
      "저장되어\n",
      "데이터\n",
      "중동\n",
      "하우스나\n",
      "다른\n",
      "El이\n",
      "저장소에\n",
      "로드되기를\n",
      "기다리고\n",
      "있다\n",
      "제공된\n",
      "예제\n",
      "데이터를\n",
      "사용한경우\n",
      "Export_filecsv의\n",
      "내용은\n",
      "다음과\n",
      "같다\n",
      "112820-12-13\n",
      "11:91:37\n",
      "942000s1gniup\n",
      "2/2020-\n",
      "12-13\n",
      "11:91:37\n",
      "942900\n",
      "Apagevie\n",
      "312920-12-13\n",
      "11:91:37\n",
      "9420001ogin\n",
      "아리파\n",
      "릅비이\n",
      "로드하는\n",
      "I6을\n",
      "자세한내용은5장을\n",
      "참조한다\n",
      "REST\n",
      "Ap에서\n",
      "데이터\n",
      "추출\n",
      "REST\n",
      "API는\n",
      "데이터를\n",
      "추출하는\n",
      "흔한방법이다\n",
      "조직에서\n",
      "만들고\n",
      "유지\n",
      "관리하는\n",
      "lYloIdV\n",
      "더를수집하거나\n",
      "Salesforce\n",
      "Hubspot\n",
      "또는\n",
      "Twitter와\n",
      "같이\n",
      "조직에서\n",
      "사용하는\n",
      "외부\n",
      "서비스/\n",
      "하동본운\n",
      "API에서\n",
      "데이터를\n",
      "수집해야할\n",
      "수도\n",
      "있다\n",
      "API에\n",
      "관계없이\n",
      "E이\n",
      "추출에는공동\n",
      "|아\n",
      "있으며\n",
      "다음의\n",
      "간단한\n",
      "Yl\n",
      "사용할것이다\n",
      "1\n",
      "AR엔드L인트로HTTPGET\n",
      "250%형식일가능성이높은용답을수락한다\n",
      "3\n",
      "응답을구문분석하고나중에데이터웨미하우스에로드할수있는C5V\n",
      "파일로\n",
      "변핵평탄화한다\n",
      "개인적으로는JSON\n",
      "형식으로\n",
      "온응답을\n",
      "구문분석p품rsing하여\n",
      "플랫\n",
      "파일CSV에\n",
      "저장하지만\n",
      "데이터를\n",
      "데이터\n",
      "웨어하우스에\n",
      "로드하기위해\n",
      "JSON\n",
      "형식으로\n",
      "저장할\n",
      "수도\n",
      "있다\n",
      "단순함을\n",
      "위해이\n",
      "장메서는\n",
      "C5!\n",
      "사용하는\n",
      "통글표\n",
      "사용한다\n",
      "C5V\n",
      "흥문\n",
      "데이터를\n",
      "로드하는\n",
      "자세한\n",
      "내용은\n",
      "5장또는\n",
      "데이터웨어하우스\n",
      "참조한다\n"
     ]
    }
   ],
   "source": [
    "for i in results:\n",
    "    print(i[\"text\"])"
   ]
  }
 ],
 "metadata": {
  "kernelspec": {
   "display_name": "Python 3 (ipykernel)",
   "language": "python",
   "name": "python3"
  },
  "language_info": {
   "codemirror_mode": {
    "name": "ipython",
    "version": 3
   },
   "file_extension": ".py",
   "mimetype": "text/x-python",
   "name": "python",
   "nbconvert_exporter": "python",
   "pygments_lexer": "ipython3",
   "version": "3.10.12"
  }
 },
 "nbformat": 4,
 "nbformat_minor": 5
}
