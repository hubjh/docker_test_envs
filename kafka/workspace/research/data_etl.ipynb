{
 "cells": [
  {
   "cell_type": "code",
   "execution_count": 8,
   "id": "bf0a5832-140c-4836-b6c9-06cbf19c2fe2",
   "metadata": {},
   "outputs": [
    {
     "name": "stdout",
     "output_type": "stream",
     "text": [
      "ssss\n",
      "b'{\"Hello\":\"World\"}'\n"
     ]
    }
   ],
   "source": [
    "import requests\n",
    "\n",
    "response = requests.get('http://host.docker.internal:8000/')\n",
    "print(\"ssss\")\n",
    "print(response.content)"
   ]
  },
  {
   "cell_type": "code",
   "execution_count": 13,
   "id": "739baeb5-b759-46e6-a00b-01012c27ddcc",
   "metadata": {},
   "outputs": [
    {
     "name": "stdout",
     "output_type": "stream",
     "text": [
      "ssss\n",
      "b'{\"Reload\":\"test\"}'\n"
     ]
    }
   ],
   "source": [
    "response2 = requests.get('http://host.docker.internal:8000/test')\n",
    "print(\"ssss\")\n",
    "print(response2.content)"
   ]
  },
  {
   "cell_type": "code",
   "execution_count": 21,
   "id": "d2118c0b-5de4-4827-9311-e5fa125e7fd4",
   "metadata": {},
   "outputs": [
    {
     "name": "stdout",
     "output_type": "stream",
     "text": [
      "b'{\"one\":\"PezZAQfjma\",\"two\":82}'\n"
     ]
    }
   ],
   "source": [
    "response3 = requests.get('http://host.docker.internal:8000/random')\n",
    "print(response3.content)"
   ]
  }
 ],
 "metadata": {
  "kernelspec": {
   "display_name": "Python 3 (ipykernel)",
   "language": "python",
   "name": "python3"
  },
  "language_info": {
   "codemirror_mode": {
    "name": "ipython",
    "version": 3
   },
   "file_extension": ".py",
   "mimetype": "text/x-python",
   "name": "python",
   "nbconvert_exporter": "python",
   "pygments_lexer": "ipython3",
   "version": "3.10.12"
  }
 },
 "nbformat": 4,
 "nbformat_minor": 5
}
