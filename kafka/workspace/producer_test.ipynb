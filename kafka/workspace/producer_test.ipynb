{
 "cells": [
  {
   "cell_type": "code",
   "execution_count": 7,
   "metadata": {},
   "outputs": [],
   "source": [
    "from kafka import KafkaProducer\n",
    "from json import dumps\n",
    "import time\n",
    "import uuid "
   ]
  },
  {
   "cell_type": "code",
   "execution_count": 23,
   "metadata": {},
   "outputs": [],
   "source": [
    "producer = KafkaProducer(\n",
    "    acks=0, # 메시지 전송 완료에 대한 체크\n",
    "    compression_type='gzip', # 메시지 전달할 때 압축(None, gzip, snappy, lz4 등)\n",
    "    # bootstrap_servers=['kafka00:10000' ,'kafka01:10001', 'kafka02:10002'], # 전달하고자 하는 카프카 브로커의 주소 리스트\n",
    "    bootstrap_servers=['kafka00:9092' ,'kafka01:9092', 'kafka02:9092'], # 전달하고자 하는 카프카 브로커의 주소 리스트\n",
    "    value_serializer=lambda x:dumps(x).encode('utf-8') # 메시지의 값 직렬화\n",
    ")"
   ]
  },
  {
   "cell_type": "code",
   "execution_count": 24,
   "metadata": {},
   "outputs": [
    {
     "name": "stdout",
     "output_type": "stream",
     "text": [
      "[Done]: 0.5980968475341797\n"
     ]
    }
   ],
   "source": [
    "start = time.time()\n",
    "\n",
    "\n",
    "for i in range(1000):\n",
    "    # 랜덤 UUID 생성\n",
    "    random_uuid = uuid.uuid4()\n",
    "    # print(random_uuid)\n",
    "\n",
    "    # 이름 기반 UUID 생성\n",
    "    namespace_uuid = uuid.uuid5(uuid.NAMESPACE_DNS, 'example.com')\n",
    "    # print(namespace_uuid)\n",
    "\n",
    "    data = {f'{str(random_uuid)}' : f'{str(namespace_uuid)}'+str(i)}\n",
    "    producer.send('topic2', value=data)\n",
    "    producer.flush() # \n",
    " \n",
    "print('[Done]:', time.time() - start)"
   ]
  },
  {
   "cell_type": "code",
   "execution_count": null,
   "metadata": {},
   "outputs": [],
   "source": []
  }
 ],
 "metadata": {
  "kernelspec": {
   "display_name": "Python 3 (ipykernel)",
   "language": "python",
   "name": "python3"
  },
  "language_info": {
   "codemirror_mode": {
    "name": "ipython",
    "version": 3
   },
   "file_extension": ".py",
   "mimetype": "text/x-python",
   "name": "python",
   "nbconvert_exporter": "python",
   "pygments_lexer": "ipython3",
   "version": "3.10.12"
  }
 },
 "nbformat": 4,
 "nbformat_minor": 4
}
