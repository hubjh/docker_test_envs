{
 "cells": [
  {
   "cell_type": "code",
   "execution_count": 10,
   "id": "2b051401-a899-4e71-8637-cc000f5184b8",
   "metadata": {},
   "outputs": [
    {
     "name": "stdout",
     "output_type": "stream",
     "text": [
      "+---------+---+\n",
      "|     Name|Age|\n",
      "+---------+---+\n",
      "|    Alice| 34|\n",
      "|      Bob| 45|\n",
      "|Catherine| 29|\n",
      "|    David| 40|\n",
      "|      Eva| 35|\n",
      "+---------+---+\n",
      "\n",
      "+-------+-----+-----------------+\n",
      "|summary| Name|              Age|\n",
      "+-------+-----+-----------------+\n",
      "|  count|    5|                5|\n",
      "|   mean| NULL|             36.6|\n",
      "| stddev| NULL|6.107372593840988|\n",
      "|    min|Alice|               29|\n",
      "|    max|  Eva|               45|\n",
      "+-------+-----+-----------------+\n",
      "\n"
     ]
    }
   ],
   "source": [
    "from pyspark.sql import SparkSession\n",
    "\n",
    "# Spark 세션 생성\n",
    "spark = SparkSession.builder \\\n",
    "    .appName(\"SparkTest\") \\\n",
    "    .master(\"local[*]\") \\\n",
    "    .getOrCreate()\n",
    "\n",
    "# 데이터 프레임 생성\n",
    "data = [(\"Alice\", 34), (\"Bob\", 45), (\"Catherine\", 29), (\"David\", 40), (\"Eva\", 35)]\n",
    "columns = [\"Name\", \"Age\"]\n",
    "df = spark.createDataFrame(data, columns)\n",
    "\n",
    "# 데이터 출력\n",
    "df.show()\n",
    "\n",
    "# 데이터 통계 정보 출력\n",
    "df.describe().show()\n",
    "\n",
    "# Spark 세션 종료\n",
    "spark.stop()\n",
    "\n"
   ]
  },
  {
   "cell_type": "code",
   "execution_count": 27,
   "id": "a22d6c23",
   "metadata": {},
   "outputs": [
    {
     "name": "stdout",
     "output_type": "stream",
     "text": [
      "+---------+---+\n",
      "|     Name|Age|\n",
      "+---------+---+\n",
      "|    Alice| 34|\n",
      "|      Bob| 45|\n",
      "|Catherine| 29|\n",
      "|    David| 40|\n",
      "|      Eva| 35|\n",
      "+---------+---+\n",
      "\n",
      "+-------+-----+-----------------+\n",
      "|summary| Name|              Age|\n",
      "+-------+-----+-----------------+\n",
      "|  count|    5|                5|\n",
      "|   mean| NULL|             36.6|\n",
      "| stddev| NULL|6.107372593840988|\n",
      "|    min|Alice|               29|\n",
      "|    max|  Eva|               45|\n",
      "+-------+-----+-----------------+\n",
      "\n"
     ]
    }
   ],
   "source": [
    "from pyspark.sql import SparkSession\n",
    "from pyspark.sql.functions import split, col\n",
    "\n",
    "# Spark 세션 생성\n",
    "spark = SparkSession.builder \\\n",
    "    .appName(\"SparkTest\") \\\n",
    "    .master(\"local[*]\") \\\n",
    "    .config(\"spark.sql.execution.arrow.enabled\", \"true\") \\\n",
    "    .getOrCreate()\n",
    "\n",
    "# 데이터 읽기\n",
    "data = spark.read.text(\"data.txt\")\n",
    "\n",
    "# 데이터 변환: 쉼표로 구분된 데이터를 분리하고, 컬럼 이름을 지정\n",
    "split_col = split(col(\"value\"),\", \")\n",
    "df = data.withColumn(\"Name\", split_col.getItem(0)).withColumn(\"Age\", split_col.getItem(1).cast(\"int\"))\n",
    "\n",
    "# 필요한 컬럼만 선택\n",
    "df = df.select(\"Name\", \"Age\")\n",
    "\n",
    "# 데이터 출력\n",
    "df.show()\n",
    "\n",
    "# 데이터 통계 정보 출력\n",
    "df.describe().show()\n",
    "\n",
    "# 데이터 저장 (선택 사항, 파일 형식으로 저장)\n",
    "df.write.parquet(\"output_pyarrow.parquet\")\n",
    "\n",
    "# Spark 세션 종료\n",
    "spark.stop()\n"
   ]
  },
  {
   "cell_type": "code",
   "execution_count": 29,
   "id": "718c3527-dddc-43c9-87e2-e39e107be528",
   "metadata": {},
   "outputs": [
    {
     "name": "stdout",
     "output_type": "stream",
     "text": [
      "+---------+---+\n",
      "|     Name|Age|\n",
      "+---------+---+\n",
      "|    Alice| 34|\n",
      "|      Bob| 45|\n",
      "|Catherine| 29|\n",
      "|    David| 40|\n",
      "|      Eva| 35|\n",
      "+---------+---+\n",
      "\n"
     ]
    }
   ],
   "source": [
    "# Spark 세션 생성\n",
    "spark = SparkSession.builder \\\n",
    "    .appName(\"SparkTest\") \\\n",
    "    .master(\"local[*]\") \\\n",
    "    .config(\"spark.sql.execution.arrow.enabled\", \"true\") \\\n",
    "    .getOrCreate()\n",
    "\n",
    "\n",
    "# Parquet 파일에서 데이터 읽기\n",
    "parquet_df = spark.read.parquet(\"output_pyarrow.parquet\")\n",
    "\n",
    "# 데이터 출력\n",
    "parquet_df.show()\n",
    "\n",
    "# Spark 세션 종료\n",
    "spark.stop()"
   ]
  },
  {
   "cell_type": "code",
   "execution_count": 4,
   "id": "9fd45d47-b63f-4c9a-9a68-5da442f7c8ac",
   "metadata": {},
   "outputs": [
    {
     "name": "stdout",
     "output_type": "stream",
     "text": [
      "b'{\"one\":\"TXFlnvlCfY\",\"two\":22}'\n"
     ]
    }
   ],
   "source": [
    "import requests\n",
    "\n",
    "response = requests.get(\"http://host.docker.internal:8000/random\")\n",
    "\n",
    "print(response.content)"
   ]
  }
 ],
 "metadata": {
  "kernelspec": {
   "display_name": "Python 3 (ipykernel)",
   "language": "python",
   "name": "python3"
  },
  "language_info": {
   "codemirror_mode": {
    "name": "ipython",
    "version": 3
   },
   "file_extension": ".py",
   "mimetype": "text/x-python",
   "name": "python",
   "nbconvert_exporter": "python",
   "pygments_lexer": "ipython3",
   "version": "3.10.11"
  }
 },
 "nbformat": 4,
 "nbformat_minor": 5
}
