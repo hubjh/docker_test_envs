{
 "cells": [
  {
   "cell_type": "code",
   "execution_count": null,
   "metadata": {},
   "outputs": [
    {
     "name": "stdout",
     "output_type": "stream",
     "text": [
      "test\n"
     ]
    }
   ],
   "source": [
    "print(\"test\")"
   ]
  },
  {
   "cell_type": "code",
   "execution_count": 2,
   "metadata": {},
   "outputs": [],
   "source": [
    "import requests"
   ]
  },
  {
   "cell_type": "code",
   "execution_count": 7,
   "metadata": {},
   "outputs": [
    {
     "name": "stdout",
     "output_type": "stream",
     "text": [
      "200\n"
     ]
    }
   ],
   "source": [
    "base_url = \"http://host.docker.internal:8000\"\n",
    "path = \"/easyocr\"\n",
    "url = base_url + path\n",
    "file_path = 'test_ocr_im.jpg'\n",
    "\n",
    "with open(file_path, 'rb') as file:\n",
    "    files = {'file': file}\n",
    "    response = requests.post(url, files=files)\n",
    "    print(response.status_code)"
   ]
  },
  {
   "cell_type": "code",
   "execution_count": 6,
   "metadata": {},
   "outputs": [],
   "source": [
    "results = response.json()['results']"
   ]
  },
  {
   "cell_type": "code",
   "execution_count": 9,
   "metadata": {},
   "outputs": [
    {
     "name": "stdout",
     "output_type": "stream",
     "text": [
      "[{'text': '더이터 수집: 더이터 주다', 'probability': 0.2864115922536797, 'bounding_box': {'bottom_left': [505.0, 107.0], 'bottom_right': [605.0, 107.0], 'top_right': [605.0, 125.0], 'top_left': [505.0, 125.0]}}, {'text': 'aws_secret_access', 'probability': 0.8066778742417979, 'bounding_box': {'bottom_left': [209.0, 163.0], 'bottom_right': [301.0, 163.0], 'top_right': [301.0, 177.0], 'top_left': [209.0, 177.0]}}, {'text': 'keysecret_key)', 'probability': 0.8342924598700618, 'bounding_box': {'bottom_left': [302.0, 164.0], 'bottom_right': [383.0, 164.0], 'top_right': [383.0, 181.0], 'top_left': [302.0, 181.0]}}, {'text': 's3_file', 'probability': 0.5557359210249265, 'bounding_box': {'bottom_left': [167.0, 201.0], 'bottom_right': [207.0, 201.0], 'top_right': [207.0, 215.0], 'top_left': [167.0, 215.0]}}, {'text': 'export_Hle', 'probability': 0.9678139696031379, 'bounding_box': {'bottom_left': [219.0, 201.0], 'bottom_right': [281.0, 201.0], 'top_right': [281.0, 215.0], 'top_left': [219.0, 215.0]}}, {'text': '53 upload_Hlelexport_file', 'probability': 0.5315325720320776, 'bounding_box': {'bottom_left': [167.0, 239.0], 'bottom_right': [307.0, 239.0], 'top_right': [307.0, 255.0], 'top_left': [167.0, 255.0]}}, {'text': 'bucket_naie', 'probability': 0.5381942215520132, 'bounding_box': {'bottom_left': [313.0, 243.0], 'bottom_right': [375.0, 243.0], 'top_right': [375.0, 259.0], 'top_left': [313.0, 259.0]}}, {'text': '53_file)', 'probability': 0.4952332719314969, 'bounding_box': {'bottom_left': [379.0, 247.0], 'bottom_right': [425.0, 247.0], 'top_right': [425.0, 261.0], 'top_left': [379.0, 261.0]}}, {'text': '이게', 'probability': 0.5711260895938547, 'bounding_box': {'bottom_left': [139.0, 287.0], 'bottom_right': [165.0, 287.0], 'top_right': [165.0, 301.0], 'top_left': [139.0, 301.0]}}, {'text': '전부다: MongoDB 킬렉선에서 주출된 데이터논 이제 S3 버짓어 지장되어 데이터 웨어', 'probability': 0.22412625635943548, 'bounding_box': {'bottom_left': [164.0, 282.0], 'bottom_right': [612.0, 282.0], 'top_right': [612.0, 314.0], 'top_left': [164.0, 314.0]}}, {'text': '하무스나 다른 데이터 저장소애 로드기블 기다리고 있다 제공된 여제 테이터름 사용하 경우', 'probability': 0.13419119571452856, 'bounding_box': {'bottom_left': [135.0, 303.0], 'bottom_right': [613.0, 303.0], 'top_right': [613.0, 341.0], 'top_left': [135.0, 341.0]}}, {'text': 'export_file.csv의 내용은 다음과 같다', 'probability': 0.7265169033088492, 'bounding_box': {'bottom_left': [138.0, 332.0], 'bottom_right': [344.0, 332.0], 'top_right': [344.0, 356.0], 'top_left': [138.0, 356.0]}}, {'text': '112020-12-13 11;01:37.942000,', 'probability': 0.5454341089795623, 'bounding_box': {'bottom_left': [167.0, 375.0], 'bottom_right': [317.0, 375.0], 'top_right': [317.0, 391.0], 'top_left': [167.0, 391.0]}}, {'text': '2/2020-12-13 11:01;37.942000lpageview', 'probability': 0.4261484719641683, 'bounding_box': {'bottom_left': [167.0, 395.0], 'bottom_right': [363.0, 395.0], 'top_right': [363.0, 413.0], 'top_left': [167.0, 413.0]}}, {'text': \"312320-12-13 11'01:37.942000/log-n\", 'probability': 0.3775040654201271, 'bounding_box': {'bottom_left': [167.0, 415.0], 'bottom_right': [347.0, 415.0], 'top_right': [347.0, 431.0], 'top_left': [167.0, 431.0]}}, {'text': '선택한 데이터스토어에 데이터블 로드하는 방법에 대한 자세한 내용은 5 장올 참조하다.', 'probability': 0.2187251360520279, 'bounding_box': {'bottom_left': [136.0, 454.0], 'bottom_right': [570.0, 454.0], 'top_right': [570.0, 484.0], 'top_left': [136.0, 484.0]}}, {'text': 'REST API에서 데이터 주출', 'probability': 0.5787052855031499, 'bounding_box': {'bottom_left': [136.0, 522.0], 'bottom_right': [332.0, 522.0], 'top_right': [332.0, 546.0], 'top_left': [136.0, 546.0]}}, {'text': 'REST API논 데이터클 추출하는 혼한 방법이다; 조직에서 판들고 우지 관리하는 API예서 데이', 'probability': 0.22594403490117732, 'bounding_box': {'bottom_left': [136.0, 564.0], 'bottom_right': [612.0, 564.0], 'top_right': [612.0, 592.0], 'top_left': [136.0, 592.0]}}, {'text': '터름 수집하거나 Salesfotce , HubSpot 또는 Twitter와 같이 조직에서 사용하는 외부 서비스', 'probability': 0.5232004897181286, 'bounding_box': {'bottom_left': [136.0, 590.0], 'bottom_right': [614.0, 590.0], 'top_right': [614.0, 618.0], 'top_left': [136.0, 618.0]}}, {'text': '공급업체의 API에서 데이터름 수집하야 할 수도 있다', 'probability': 0.5522698119172224, 'bounding_box': {'bottom_left': [136.0, 614.0], 'bottom_right': [414.0, 614.0], 'top_right': [414.0, 638.0], 'top_left': [136.0, 638.0]}}, {'text': 'API예 관계없이 데이터 추중에는 공동', 'probability': 0.3420257427166187, 'bounding_box': {'bottom_left': [417.0, 621.0], 'bottom_right': [611.0, 621.0], 'top_right': [611.0, 641.0], 'top_left': [417.0, 641.0]}}, {'text': '과련이 있으떠 다음의 간단한 예제에서 사용활 젓이다', 'probability': 0.3962191917070047, 'bounding_box': {'bottom_left': [138.0, 640.0], 'bottom_right': [414.0, 640.0], 'top_right': [414.0, 664.0], 'top_left': [138.0, 664.0]}}, {'text': '1. API 엔드모인트로 HTTP GET 요청물 보랜다', 'probability': 0.35198473715972123, 'bounding_box': {'bottom_left': [151.0, 683.0], 'bottom_right': [351.0, 683.0], 'top_right': [351.0, 699.0], 'top_left': [151.0, 699.0]}}, {'text': 'JON 형식일 기능성이 높은 용답문 수리하다', 'probability': 0.16847252902073792, 'bounding_box': {'bottom_left': [165.0, 711.0], 'bottom_right': [353.0, 711.0], 'top_right': [353.0, 729.0], 'top_left': [165.0, 729.0]}}, {'text': '구문 문석하고 나중어 데미터 웨어히우스에 로드함 수 잇는 CSV 마일로 변래평단쾌하다', 'probability': 0.07102469696102642, 'bounding_box': {'bottom_left': [197.0, 743.0], 'bottom_right': [555.0, 743.0], 'top_right': [555.0, 759.0], 'top_left': [197.0, 759.0]}}, {'text': '개인적으로는 JSON 형식으로 온 용답올 구문 분세pasingk하여 불컷 파일CSVMI 저장하지만 데이터물', 'probability': 0.11193414611098554, 'bounding_box': {'bottom_left': [165.0, 795.0], 'bottom_right': [605.0, 795.0], 'top_right': [605.0, 813.0], 'top_left': [165.0, 813.0]}}, {'text': '데이터 웨어하우스에 로드하기 위해 JSON 엄식으로 저장신 수도 있다 단순함g 위해', 'probability': 0.16392306349332528, 'bounding_box': {'bottom_left': [167.0, 819.0], 'bottom_right': [529.0, 819.0], 'top_right': [529.0, 835.0], 'top_left': [167.0, 835.0]}}, {'text': '집메서논 CSV', 'probability': 0.1838649240132628, 'bounding_box': {'bottom_left': [543.0, 821.0], 'bottom_right': [605.0, 821.0], 'top_right': [605.0, 835.0], 'top_left': [543.0, 835.0]}}, {'text': '파밀움 시용하는 펴린움 시용하다 CSV 이외의', 'probability': 0.3028207445739866, 'bounding_box': {'bottom_left': [165.0, 839.0], 'bottom_right': [367.0, 839.0], 'top_right': [367.0, 855.0], 'top_left': [165.0, 855.0]}}, {'text': '형식므로 데이터롬 로드이는 방범에', 'probability': 0.18594038731026793, 'bounding_box': {'bottom_left': [371.0, 841.0], 'bottom_right': [519.0, 841.0], 'top_right': [519.0, 855.0], 'top_left': [371.0, 855.0]}}, {'text': '대한 자세한 내용은', 'probability': 0.7307804871252115, 'bounding_box': {'bottom_left': [523.0, 839.0], 'bottom_right': [605.0, 839.0], 'top_right': [605.0, 855.0], 'top_left': [523.0, 855.0]}}, {'text': '5장 또는 더이터웨어히무스 설명서금 침조한다', 'probability': 0.37414721348201274, 'bounding_box': {'bottom_left': [165.0, 861.0], 'bottom_right': [363.0, 861.0], 'top_right': [363.0, 877.0], 'top_left': [165.0, 877.0]}}, {'text': '{siorwp', 'probability': 0.5548515960237032, 'bounding_box': {'bottom_left': [313.4929798734366, 376.13806578484224], 'bottom_right': [353.9857364255104, 381.83170353710796], 'top_right': [351.5070201265634, 394.86193421515776], 'top_left': [311.0142635744896, 389.16829646289204]}}, {'text': '용담울', 'probability': 0.37787892267967743, 'bounding_box': {'bottom_left': [162.7805784783006, 740.4147520217908], 'bottom_right': [194.57870443475267, 736.7721187729702], 'top_right': [196.2194215216994, 756.5852479782092], 'top_left': [164.42129556524733, 760.2278812270298]}}]\n"
     ]
    }
   ],
   "source": [
    "print(results)"
   ]
  },
  {
   "cell_type": "code",
   "execution_count": 5,
   "metadata": {},
   "outputs": [
    {
     "name": "stdout",
     "output_type": "stream",
     "text": [
      "더이터 수집: 더이터 주다\n",
      "aws_secret_access\n",
      "keysecret_key)\n",
      "s3_file\n",
      "export_Hle\n",
      "53 upload_Hlelexport_file\n",
      "bucket_naie\n",
      "53_file)\n",
      "이게\n",
      "전부다: MongoDB 킬렉선에서 주출된 데이터논 이제 S3 버짓어 지장되어 데이터 웨어\n",
      "하무스나 다른 데이터 저장소애 로드기블 기다리고 있다 제공된 여제 테이터름 사용하 경우\n",
      "export_file.csv의 내용은 다음과 같다\n",
      "112020-12-13 11;01:37.942000,\n",
      "2/2020-12-13 11:01;37.942000lpageview\n",
      "312320-12-13 11'01:37.942000/log-n\n",
      "선택한 데이터스토어에 데이터블 로드하는 방법에 대한 자세한 내용은 5 장올 참조하다.\n",
      "REST API에서 데이터 주출\n",
      "REST API논 데이터클 추출하는 혼한 방법이다; 조직에서 판들고 우지 관리하는 API예서 데이\n",
      "터름 수집하거나 Salesfotce , HubSpot 또는 Twitter와 같이 조직에서 사용하는 외부 서비스\n",
      "공급업체의 API에서 데이터름 수집하야 할 수도 있다\n",
      "API예 관계없이 데이터 추중에는 공동\n",
      "과련이 있으떠 다음의 간단한 예제에서 사용활 젓이다\n",
      "1. API 엔드모인트로 HTTP GET 요청물 보랜다\n",
      "JON 형식일 기능성이 높은 용답문 수리하다\n",
      "구문 문석하고 나중어 데미터 웨어히우스에 로드함 수 잇는 CSV 마일로 변래평단쾌하다\n",
      "개인적으로는 JSON 형식으로 온 용답올 구문 분세pasingk하여 불컷 파일CSVMI 저장하지만 데이터물\n",
      "데이터 웨어하우스에 로드하기 위해 JSON 엄식으로 저장신 수도 있다 단순함g 위해\n",
      "집메서논 CSV\n",
      "파밀움 시용하는 펴린움 시용하다 CSV 이외의\n",
      "형식므로 데이터롬 로드이는 방범에\n",
      "대한 자세한 내용은\n",
      "5장 또는 더이터웨어히무스 설명서금 침조한다\n",
      "{siorwp\n",
      "용담울\n"
     ]
    }
   ],
   "source": [
    "for i in results:\n",
    "    print(i[\"text\"])"
   ]
  },
  {
   "cell_type": "code",
   "execution_count": null,
   "metadata": {},
   "outputs": [],
   "source": []
  }
 ],
 "metadata": {
  "kernelspec": {
   "display_name": "Python 3 (ipykernel)",
   "language": "python",
   "name": "python3"
  },
  "language_info": {
   "codemirror_mode": {
    "name": "ipython",
    "version": 3
   },
   "file_extension": ".py",
   "mimetype": "text/x-python",
   "name": "python",
   "nbconvert_exporter": "python",
   "pygments_lexer": "ipython3",
   "version": "3.10.12"
  }
 },
 "nbformat": 4,
 "nbformat_minor": 4
}
